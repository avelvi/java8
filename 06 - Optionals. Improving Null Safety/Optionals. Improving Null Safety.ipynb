{
 "cells": [
  {
   "cell_type": "markdown",
   "metadata": {},
   "source": [
    "## Optionals. Improving Null Safety\n",
    "\n",
    "### Optionals\n",
    "\n",
    "Optionals are not functional interfaces, instead it's a nifty utility to prevent <code>NullPointerException</code>\n",
    "\n",
    "Optional is a simple container for a value which may be null or non-null. Think of a method which may return a non-null result but sometimes return nothing. Instead of returning null you return an <code>Optional</code> in Java 8."
   ]
  },
  {
   "cell_type": "code",
   "execution_count": 1,
   "metadata": {},
   "outputs": [],
   "source": [
    "Optional<String> optional = Optional.of(\"bam\");"
   ]
  },
  {
   "cell_type": "code",
   "execution_count": 2,
   "metadata": {},
   "outputs": [
    {
     "data": {
      "text/plain": [
       "true"
      ]
     },
     "execution_count": 2,
     "metadata": {},
     "output_type": "execute_result"
    }
   ],
   "source": [
    "optional.isPresent();"
   ]
  },
  {
   "cell_type": "code",
   "execution_count": 3,
   "metadata": {},
   "outputs": [
    {
     "data": {
      "text/plain": [
       "bam"
      ]
     },
     "execution_count": 3,
     "metadata": {},
     "output_type": "execute_result"
    }
   ],
   "source": [
    "optional.get();"
   ]
  },
  {
   "cell_type": "code",
   "execution_count": 4,
   "metadata": {},
   "outputs": [
    {
     "data": {
      "text/plain": [
       "bam"
      ]
     },
     "execution_count": 4,
     "metadata": {},
     "output_type": "execute_result"
    }
   ],
   "source": [
    "optional.orElse(\"fallback\");"
   ]
  },
  {
   "cell_type": "code",
   "execution_count": 5,
   "metadata": {},
   "outputs": [
    {
     "name": "stdout",
     "output_type": "stream",
     "text": [
      "b\n"
     ]
    }
   ],
   "source": [
    "optional.ifPresent(s -> System.out.println(s.charAt(0)));"
   ]
  },
  {
   "cell_type": "markdown",
   "metadata": {},
   "source": [
    "### Improving Null Safety\n",
    "\n",
    "We can utilize the <code>Optional</code> type of Java 8 to prevent <code>null</code> checks. "
   ]
  },
  {
   "cell_type": "code",
   "execution_count": 15,
   "metadata": {},
   "outputs": [],
   "source": [
    "class Inner {\n",
    "    private String foo;\n",
    "    \n",
    "    Inner(String foo) {\n",
    "        this.foo = foo;\n",
    "    }\n",
    "    public String getFoo() {\n",
    "        return foo;\n",
    "    }\n",
    "}\n",
    "\n",
    "class Nested {\n",
    "    private Inner inner;\n",
    "    \n",
    "    Nested(Inner inner) {\n",
    "        this.inner = inner;\n",
    "    }\n",
    "    \n",
    "    public Inner getInner() {\n",
    "        return inner;\n",
    "    }\n",
    "}\n",
    "\n",
    "class Outer {\n",
    "    private Nested nested;\n",
    "    \n",
    "    Outer() {\n",
    "        \n",
    "    }\n",
    "    \n",
    "    Outer(Nested nested) {\n",
    "        this.nested = nested;\n",
    "    }\n",
    "    public Nested getNested() {\n",
    "        return nested;\n",
    "    }\n",
    "}"
   ]
  },
  {
   "cell_type": "markdown",
   "metadata": {},
   "source": [
    "Resolving a deep nested path in this structure can be kinda awkward. We have to write a bunch of null checks to make sure not to raise a <code>NullPointerException</code>:"
   ]
  },
  {
   "cell_type": "code",
   "execution_count": 16,
   "metadata": {},
   "outputs": [],
   "source": [
    "Outer outer = new Outer();\n",
    "if (outer != null && outer.getNested() != null && \n",
    "    outer.getNested().getInner() != null) {\n",
    "    System.out.println(outer.getNested().getInner().getFoo());\n",
    "}"
   ]
  },
  {
   "cell_type": "markdown",
   "metadata": {},
   "source": [
    "We can get rid of all those null checks by utilizing the Java 8 <code>Optional</code> type. The method map accepts a lambda expression of type <code>Function</code> and automatically wraps each function result into an <code>Optional</code>. That enables us to pipe multiple <code>map</code> operations in a row. Null checks are automatically handled under the hood:"
   ]
  },
  {
   "cell_type": "code",
   "execution_count": 10,
   "metadata": {},
   "outputs": [],
   "source": [
    "Optional.of(new Outer())\n",
    "    .map(Outer::getNested)\n",
    "    .map(Nested::getInner)\n",
    "    .map(Inner::getFoo)\n",
    "    .ifPresent(System.out::println);"
   ]
  },
  {
   "cell_type": "code",
   "execution_count": 18,
   "metadata": {},
   "outputs": [
    {
     "name": "stdout",
     "output_type": "stream",
     "text": [
      "foo param\n"
     ]
    }
   ],
   "source": [
    "Outer outer = new Outer(new Nested(new Inner(\"foo param\")));\n",
    "Optional.of(outer)\n",
    "    .map(Outer::getNested)\n",
    "    .map(Nested::getInner)\n",
    "    .map(Inner::getFoo)\n",
    "    .ifPresent(System.out::println);"
   ]
  },
  {
   "cell_type": "markdown",
   "metadata": {},
   "source": [
    "An alternative way to achieve the same behavior is by utilizing a supplier function to resolve the nested path:"
   ]
  },
  {
   "cell_type": "code",
   "execution_count": 23,
   "metadata": {},
   "outputs": [],
   "source": [
    "import java.util.function.Supplier;\n",
    "\n",
    "class Util {\n",
    "    static <T> Optional<T> resolve(Supplier<T> resolver) {\n",
    "        try {\n",
    "            T result = resolver.get();\n",
    "            return Optional.ofNullable(result);\n",
    "        }\n",
    "        catch (NullPointerException e) {\n",
    "            return Optional.empty();\n",
    "        }\n",
    "    }\n",
    "}"
   ]
  },
  {
   "cell_type": "code",
   "execution_count": null,
   "metadata": {},
   "outputs": [],
   "source": [
    "Outer obj = new Outer();\n",
    "Util.resolve(() -> obj.getNested().getInner().getFoo())\n",
    "    .ifPresent(System.out::println);"
   ]
  },
  {
   "cell_type": "code",
   "execution_count": 25,
   "metadata": {},
   "outputs": [
    {
     "name": "stdout",
     "output_type": "stream",
     "text": [
      "foo param\n"
     ]
    }
   ],
   "source": [
    "Outer obj = new Outer(new Nested(new Inner(\"foo param\")));\n",
    "Util.resolve(() -> obj.getNested().getInner().getFoo())\n",
    "    .ifPresent(System.out::println);"
   ]
  },
  {
   "cell_type": "markdown",
   "metadata": {},
   "source": [
    "Calling <code>obj.getNested().getInner().getFoo())</code> might throw a <code>NullPointerException</code>. In this case the exception will be caught and the method returns <code>Optional.empty()</code>."
   ]
  },
  {
   "cell_type": "code",
   "execution_count": null,
   "metadata": {},
   "outputs": [],
   "source": []
  }
 ],
 "metadata": {
  "kernelspec": {
   "display_name": "Java",
   "language": "java",
   "name": "java"
  },
  "language_info": {
   "codemirror_mode": "java",
   "file_extension": ".java",
   "mimetype": "text/x-java-source",
   "name": "Java",
   "pygments_lexer": "java",
   "version": "11.0.1+13-LTS"
  }
 },
 "nbformat": 4,
 "nbformat_minor": 2
}
