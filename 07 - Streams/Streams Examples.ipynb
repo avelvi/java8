{
 "cells": [
  {
   "cell_type": "markdown",
   "metadata": {},
   "source": [
    "## Streams Examples\n",
    "\n",
    "### Different kind of streams\n",
    "\n",
    "Besides regular object streams Java8 ships with special kinds of streams for working with the primitive data types <code>int</code>, <code>long</code> and <code>double</code> such as <code>IntStream</code>, <code>LongStream</code> and <code>DoubleStream</code>.\n",
    "\n",
    "<code>IntStream</code> can replace the regular for-loop utilizing <code>IntStream.range()</code>:"
   ]
  },
  {
   "cell_type": "code",
   "execution_count": 1,
   "metadata": {},
   "outputs": [],
   "source": [
    "import java.util.stream.IntStream;\n",
    "import java.util.stream.Stream;\n",
    "import java.util.function.Supplier;"
   ]
  },
  {
   "cell_type": "code",
   "execution_count": 2,
   "metadata": {},
   "outputs": [
    {
     "name": "stdout",
     "output_type": "stream",
     "text": [
      "1\n",
      "2\n",
      "3\n"
     ]
    }
   ],
   "source": [
    "IntStream.range(1, 4)\n",
    "    .forEach(System.out::println);"
   ]
  },
  {
   "cell_type": "markdown",
   "metadata": {},
   "source": [
    "All those primitive streams work just like regular object streams with the following differences: Primitive streams use specialized lambda expressions, e.g. <code>IntFunction</code> instead of <code>Function</code> or <code>IntPredicate</code> instead of <code>Predicate</code>. And primitive streams support the additional terminal aggregate operations <code>sum()</code> and <code>average()</code>:"
   ]
  },
  {
   "cell_type": "code",
   "execution_count": 3,
   "metadata": {},
   "outputs": [
    {
     "name": "stdout",
     "output_type": "stream",
     "text": [
      "5.0\n"
     ]
    }
   ],
   "source": [
    "Arrays.stream(new int[]{1, 2, 3})\n",
    "    .map(i -> 2 * i + 1)\n",
    "    .average()\n",
    "    .ifPresent(System.out::println);"
   ]
  },
  {
   "cell_type": "markdown",
   "metadata": {},
   "source": [
    "Sometimes it's useful to transform a regular object stream to a primitive stream or vice versa. For that purpose object streams support the special mapping operations <code>mapToInt()</code>, <code>mapToLong()</code> and <code>mapToDouble</code>:"
   ]
  },
  {
   "cell_type": "code",
   "execution_count": 4,
   "metadata": {},
   "outputs": [
    {
     "name": "stdout",
     "output_type": "stream",
     "text": [
      "3\n"
     ]
    }
   ],
   "source": [
    "Stream.of(\"a1\", \"a2\", \"a3\")\n",
    "    .map(s -> s.substring(1))\n",
    "    .mapToInt(Integer::parseInt)\n",
    "    .max()\n",
    "    .ifPresent(System.out::println);"
   ]
  },
  {
   "cell_type": "markdown",
   "metadata": {},
   "source": [
    "Primitive streams can be transformed to object streams via <code>mapToObj()</code>:"
   ]
  },
  {
   "cell_type": "code",
   "execution_count": 5,
   "metadata": {},
   "outputs": [
    {
     "name": "stdout",
     "output_type": "stream",
     "text": [
      "a1\n",
      "a2\n",
      "a3\n"
     ]
    }
   ],
   "source": [
    "IntStream.range(1, 4)\n",
    "    .mapToObj(i -> \"a\" + i)\n",
    "    .forEach(System.out::println);"
   ]
  },
  {
   "cell_type": "markdown",
   "metadata": {},
   "source": [
    "Combined example: the stream of doubles is first mapped to an int stream and than mapped to an object stream of strings:"
   ]
  },
  {
   "cell_type": "code",
   "execution_count": 6,
   "metadata": {},
   "outputs": [
    {
     "name": "stdout",
     "output_type": "stream",
     "text": [
      "a1\n",
      "a2\n",
      "a3\n"
     ]
    }
   ],
   "source": [
    "Stream.of(1.0, 2.0, 3.0)\n",
    "    .mapToInt(Double::intValue)\n",
    "    .mapToObj(d -> \"a\" + d)\n",
    "    .forEach(System.out::println);"
   ]
  },
  {
   "cell_type": "markdown",
   "metadata": {},
   "source": [
    "### Processing Order\n",
    "\n",
    "An important characteristic of <i>intermediate</i> operations is laziness. In the next sample a <i>terminal</i> operation is missing:"
   ]
  },
  {
   "cell_type": "code",
   "execution_count": 7,
   "metadata": {},
   "outputs": [
    {
     "data": {
      "text/plain": [
       "java.util.stream.ReferencePipeline$2@344e9e86"
      ]
     },
     "execution_count": 7,
     "metadata": {},
     "output_type": "execute_result"
    }
   ],
   "source": [
    "Stream.of(\"d2\", \"a2\", \"b1\", \"b3\", \"c\")\n",
    "    .filter(s -> {\n",
    "        System.out.println(\"filter: \" + s);\n",
    "        return true;\n",
    "    });"
   ]
  },
  {
   "cell_type": "markdown",
   "metadata": {},
   "source": [
    "Nothing is printed to the console. That is because <i>intermediate</i> operations will only be executed when a <i>terminal</i> operation is present.\n",
    "\n",
    "If we add for example <i>terminal</i> operation <code>forEach</code> the result of the <code>filter</code> operation will be outputted on the console:"
   ]
  },
  {
   "cell_type": "code",
   "execution_count": 8,
   "metadata": {},
   "outputs": [
    {
     "name": "stdout",
     "output_type": "stream",
     "text": [
      "filter: d2\n",
      "forEach: d2\n",
      "filter: a2\n",
      "forEach: a2\n",
      "filter: b1\n",
      "forEach: b1\n",
      "filter: b3\n",
      "forEach: b3\n",
      "filter: c\n",
      "forEach: c\n"
     ]
    }
   ],
   "source": [
    "Stream.of(\"d2\", \"a2\", \"b1\", \"b3\", \"c\")\n",
    "    .filter(s -> {\n",
    "        System.out.println(\"filter: \" + s);\n",
    "        return true;\n",
    "    })\n",
    "    .forEach(s -> System.out.println(\"forEach: \" + s));"
   ]
  },
  {
   "cell_type": "markdown",
   "metadata": {},
   "source": [
    "As we can see the order of execution is - The first string \"d2\" passes filter then forEach, only then the second string \"a2\" is processed and so on.\n",
    "\n",
    "This behavior can reduce the actual number of operations performed on each element:"
   ]
  },
  {
   "cell_type": "code",
   "execution_count": 9,
   "metadata": {},
   "outputs": [
    {
     "name": "stdout",
     "output_type": "stream",
     "text": [
      "map: d2\n",
      "anyMatch: D2\n",
      "map: a2\n",
      "anyMatch: A2\n"
     ]
    },
    {
     "data": {
      "text/plain": [
       "true"
      ]
     },
     "execution_count": 9,
     "metadata": {},
     "output_type": "execute_result"
    }
   ],
   "source": [
    "Stream.of(\"d2\", \"a2\", \"b1\", \"b3\", \"c\")\n",
    "    .map(s -> {\n",
    "        System.out.println(\"map: \" + s);\n",
    "        return s.toUpperCase();\n",
    "    })\n",
    "    .anyMatch(s -> {\n",
    "        System.out.println(\"anyMatch: \" + s);\n",
    "        return s.startsWith(\"A\");\n",
    "    });"
   ]
  },
  {
   "cell_type": "markdown",
   "metadata": {},
   "source": [
    "The operation <code>anyMatch</code> returns <code>true</code> as soon as the predicate applies to the given input element. This is <code>true</code> for the second element passed \"A2\". Due to the vertical execution of the stream chain, map has only to be executed twice in this case. So instead of mapping all elements of the stream, map will be called as few as possible."
   ]
  },
  {
   "cell_type": "markdown",
   "metadata": {},
   "source": [
    "#### Why order of operations matters\n",
    "\n",
    "In the next example both <code>map</code> and <code>filter</code> are called five times for every string in the underlying collection whereas forEach is only called once:"
   ]
  },
  {
   "cell_type": "code",
   "execution_count": 10,
   "metadata": {},
   "outputs": [
    {
     "name": "stdout",
     "output_type": "stream",
     "text": [
      "map: d2\n",
      "filter: D2\n",
      "map: a2\n",
      "filter: A2\n",
      "forEach: A2\n",
      "map: b1\n",
      "filter: B1\n",
      "map: b3\n",
      "filter: B3\n",
      "map: c\n",
      "filter: C\n"
     ]
    }
   ],
   "source": [
    "Stream.of(\"d2\", \"a2\", \"b1\", \"b3\", \"c\")\n",
    "    .map(s -> {\n",
    "        System.out.println(\"map: \" + s);\n",
    "        return s.toUpperCase();\n",
    "    })\n",
    "    .filter(s -> {\n",
    "        System.out.println(\"filter: \" + s);\n",
    "        return s.startsWith(\"A\");\n",
    "    })\n",
    "    .forEach(s -> System.out.println(\"forEach: \" + s));"
   ]
  },
  {
   "cell_type": "markdown",
   "metadata": {},
   "source": [
    "If change the order of the operations, moving <code>filter</code> to the beginning of the chain, the result will be another:"
   ]
  },
  {
   "cell_type": "code",
   "execution_count": 11,
   "metadata": {},
   "outputs": [
    {
     "name": "stdout",
     "output_type": "stream",
     "text": [
      "filter: d2\n",
      "filter: a2\n",
      "map: a2\n",
      "forEach: A2\n",
      "filter: b1\n",
      "filter: b3\n",
      "filter: c\n"
     ]
    }
   ],
   "source": [
    "Stream.of(\"d2\", \"a2\", \"b1\", \"b3\", \"c\")\n",
    "    .filter(s -> {\n",
    "        System.out.println(\"filter: \" + s);\n",
    "        return s.startsWith(\"a\");\n",
    "    })\n",
    "    .map(s -> {\n",
    "        System.out.println(\"map: \" + s);\n",
    "        return s.toUpperCase();\n",
    "    })\n",
    "    .forEach(s -> System.out.println(\"forEach: \" + s));"
   ]
  },
  {
   "cell_type": "markdown",
   "metadata": {},
   "source": [
    "<code>map</code> is only called once. So the operation pipeline performs much faster for larger numbers of input elements."
   ]
  },
  {
   "cell_type": "code",
   "execution_count": 12,
   "metadata": {},
   "outputs": [
    {
     "name": "stdout",
     "output_type": "stream",
     "text": [
      "sort: a2; d2\n",
      "sort: b1; a2\n",
      "sort: b1; d2\n",
      "sort: b1; a2\n",
      "sort: b3; b1\n",
      "sort: b3; d2\n",
      "sort: c; b3\n",
      "sort: c; d2\n",
      "filter: a2\n",
      "map: a2\n",
      "forEach: A2\n",
      "filter: b1\n",
      "filter: b3\n",
      "filter: c\n",
      "filter: d2\n"
     ]
    }
   ],
   "source": [
    "Stream.of(\"d2\", \"a2\", \"b1\", \"b3\", \"c\")\n",
    "    .sorted((s1, s2) -> {\n",
    "        System.out.printf(\"sort: %s; %s\\n\", s1, s2);\n",
    "        return s1.compareTo(s2);\n",
    "    })\n",
    "    .filter(s -> {\n",
    "        System.out.println(\"filter: \" + s);\n",
    "        return s.startsWith(\"a\");\n",
    "    })\n",
    "    .map(s -> {\n",
    "        System.out.println(\"map: \" + s);\n",
    "        return s.toUpperCase();\n",
    "    })\n",
    "    .forEach(s -> System.out.println(\"forEach: \" + s));"
   ]
  },
  {
   "cell_type": "markdown",
   "metadata": {},
   "source": [
    "Sorting is a special kind of <i>intermediate</i> operation. It's a so called stateful operation since in order to sort a collection of elements you have to maintain state during ordering.\n",
    "\n",
    "The <code>sort</code> operation is executed on the entire input collection. In other words sorted is executed <i>horizontally</i>. So in this case sorted is called eight times for multiple combinations on every element in the input collection.\n",
    "\n",
    "We can optimize the performance by reordering the chain:"
   ]
  },
  {
   "cell_type": "code",
   "execution_count": 13,
   "metadata": {},
   "outputs": [
    {
     "name": "stdout",
     "output_type": "stream",
     "text": [
      "filter: d2\n",
      "filter: a2\n",
      "filter: b1\n",
      "filter: b3\n",
      "filter: c\n",
      "map: a2\n",
      "forEach: A2\n"
     ]
    }
   ],
   "source": [
    "Stream.of(\"d2\", \"a2\", \"b1\", \"b3\", \"c\")\n",
    "    .filter(s -> {\n",
    "        System.out.println(\"filter: \" + s);\n",
    "        return s.startsWith(\"a\");\n",
    "    })\n",
    "    .sorted((s1, s2) -> {\n",
    "        System.out.printf(\"sort: %s; %s\\n\", s1, s2);\n",
    "        return s1.compareTo(s2);\n",
    "    })\n",
    "    .map(s -> {\n",
    "        System.out.println(\"map: \" + s);\n",
    "        return s.toUpperCase();\n",
    "    })\n",
    "    .forEach(s -> System.out.println(\"forEach: \" + s));"
   ]
  },
  {
   "cell_type": "markdown",
   "metadata": {},
   "source": [
    "<code>sorted</code> is never been called because <code>filter</code> reduces the input collection to just one element. So the performance is greatly increased for larger input collections."
   ]
  },
  {
   "cell_type": "markdown",
   "metadata": {},
   "source": [
    "### Reusing Streams\n",
    "\n",
    "Java8 streams cannot be reused. As soon as you call any terminal operation the stream is closed:"
   ]
  },
  {
   "cell_type": "code",
   "execution_count": 14,
   "metadata": {},
   "outputs": [
    {
     "ename": "EvalException",
     "evalue": "stream has already been operated upon or closed",
     "output_type": "error",
     "traceback": [
      "\u001b[1m\u001b[31m---------------------------------------------------------------------------\u001b[0m",
      "\u001b[1m\u001b[31mjava.lang.IllegalStateException: stream has already been operated upon or closed\u001b[0m",
      "\u001b[1m\u001b[31m\tat java.base/java.util.stream.AbstractPipeline.evaluate(AbstractPipeline.java:229)\u001b[0m",
      "\u001b[1m\u001b[31m\tat java.base/java.util.stream.ReferencePipeline.noneMatch(ReferencePipeline.java:538)\u001b[0m",
      "\u001b[1m\u001b[31m\tat .(#35:1)\u001b[0m"
     ]
    }
   ],
   "source": [
    "Stream<String> stream =\n",
    "    Stream.of(\"d2\", \"a2\", \"b1\", \"b3\", \"c\")\n",
    "        .filter(s -> s.startsWith(\"a\"));\n",
    "\n",
    "stream.anyMatch(s -> true);    // ok\n",
    "stream.noneMatch(s -> true);   // exception"
   ]
  },
  {
   "cell_type": "markdown",
   "metadata": {},
   "source": [
    "To overcome this limitation we have to to create a new stream chain for every terminal operation we want to execute, e.g. we could create a stream supplier to construct a new stream with all intermediate operations already set up:"
   ]
  },
  {
   "cell_type": "code",
   "execution_count": 15,
   "metadata": {},
   "outputs": [],
   "source": [
    "Supplier<Stream<String>> streamSupplier = \n",
    "    () -> Stream.of(\"d2\", \"a2\", \"b1\", \"b3\", \"c\")\n",
    "        .filter(s -> s.startsWith(\"a\"));"
   ]
  },
  {
   "cell_type": "code",
   "execution_count": 16,
   "metadata": {},
   "outputs": [
    {
     "data": {
      "text/plain": [
       "false"
      ]
     },
     "execution_count": 16,
     "metadata": {},
     "output_type": "execute_result"
    }
   ],
   "source": [
    "streamSupplier.get().anyMatch(s -> true);\n",
    "streamSupplier.get().noneMatch(s -> true);"
   ]
  },
  {
   "cell_type": "markdown",
   "metadata": {},
   "source": [
    "Each call to <code>get()</code> constructs a new stream on which we are save to call the desired terminal operation."
   ]
  },
  {
   "cell_type": "code",
   "execution_count": null,
   "metadata": {},
   "outputs": [],
   "source": []
  }
 ],
 "metadata": {
  "kernelspec": {
   "display_name": "Java",
   "language": "java",
   "name": "java"
  },
  "language_info": {
   "codemirror_mode": "java",
   "file_extension": ".java",
   "mimetype": "text/x-java-source",
   "name": "Java",
   "pygments_lexer": "java",
   "version": "11.0.1+13-LTS"
  }
 },
 "nbformat": 4,
 "nbformat_minor": 2
}
