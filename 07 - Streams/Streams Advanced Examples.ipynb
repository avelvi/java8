{
 "cells": [
  {
   "cell_type": "markdown",
   "metadata": {},
   "source": [
    "## Streams Advanced Examples"
   ]
  },
  {
   "cell_type": "code",
   "execution_count": 1,
   "metadata": {},
   "outputs": [],
   "source": [
    "import java.util.stream.Collectors;\n",
    "import java.util.stream.Collector;\n",
    "import java.util.stream.IntStream;\n",
    "\n",
    "class Person {\n",
    "    String name;\n",
    "    int age;\n",
    "\n",
    "    Person(String name, int age) {\n",
    "        this.name = name;\n",
    "        this.age = age;\n",
    "    }\n",
    "    \n",
    "    String getName() {\n",
    "        return this.name;\n",
    "    }\n",
    "    \n",
    "    int getAge() {\n",
    "        return this.age;\n",
    "    }\n",
    "\n",
    "    @Override\n",
    "    public String toString() {\n",
    "        return name;\n",
    "    }\n",
    "}\n",
    "\n",
    "List<Person> persons =\n",
    "    Arrays.asList(\n",
    "        new Person(\"Max\", 18),\n",
    "        new Person(\"Peter\", 23),\n",
    "        new Person(\"Pamela\", 23),\n",
    "        new Person(\"David\", 12));\n",
    "\n",
    "class Bar {\n",
    "    private String name;\n",
    "\n",
    "    Bar(String name) {\n",
    "        this.name = name;\n",
    "    }\n",
    "    \n",
    "    String getName() {\n",
    "        return this.name;\n",
    "    }\n",
    "}\n",
    "\n",
    "class Foo {\n",
    "    private String name;\n",
    "    private List<Bar> bars = new ArrayList<>();\n",
    "\n",
    "    Foo(String name) {\n",
    "        this.name = name;\n",
    "    }\n",
    "    \n",
    "    String getName() {\n",
    "        return this.name;\n",
    "    }\n",
    "    \n",
    "    List<Bar> getBars() {\n",
    "        return this.bars;\n",
    "    }\n",
    "}\n",
    "\n",
    "List<Foo> foos = new ArrayList<>();\n",
    "\n",
    "IntStream\n",
    "    .range(1, 4)\n",
    "    .forEach(i -> foos.add(new Foo(\"Foo\" + i)));\n",
    "\n",
    "foos\n",
    "    .forEach(f -> \n",
    "        IntStream\n",
    "            .range(1, 4)\n",
    "            .forEach(i -> \n",
    "                f.getBars().add(new Bar(\"Bar\" + i + \" <- \" + f.getName()))));"
   ]
  },
  {
   "cell_type": "markdown",
   "metadata": {},
   "source": [
    "### Streams.collect()\n",
    "\n",
    "<code>Streams.collect()</code> is useful <i>terminal</i> operation to transform the elements of the stream into a different kind of result, e.g. a <code>List</code>, </code>Set</code> or <code>Map</code>:"
   ]
  },
  {
   "cell_type": "code",
   "execution_count": 2,
   "metadata": {},
   "outputs": [
    {
     "data": {
      "text/plain": [
       "[Peter, Pamela]"
      ]
     },
     "execution_count": 2,
     "metadata": {},
     "output_type": "execute_result"
    }
   ],
   "source": [
    "persons\n",
    "    .stream()\n",
    "    .filter(p -> p.getName().startsWith(\"P\"))\n",
    "    .collect(Collectors.toList());"
   ]
  },
  {
   "cell_type": "markdown",
   "metadata": {},
   "source": [
    "For <code>Set</code> just use <code>Collectors.toSet()</code>:"
   ]
  },
  {
   "cell_type": "code",
   "execution_count": 3,
   "metadata": {},
   "outputs": [
    {
     "data": {
      "text/plain": [
       "[Peter, Pamela]"
      ]
     },
     "execution_count": 3,
     "metadata": {},
     "output_type": "execute_result"
    }
   ],
   "source": [
    "persons\n",
    "    .stream()\n",
    "    .filter(p -> p.getName().startsWith(\"P\"))\n",
    "    .collect(Collectors.toSet());"
   ]
  },
  {
   "cell_type": "markdown",
   "metadata": {},
   "source": [
    "You can also use grouping by parameter:"
   ]
  },
  {
   "cell_type": "code",
   "execution_count": 4,
   "metadata": {},
   "outputs": [
    {
     "name": "stdout",
     "output_type": "stream",
     "text": [
      "age 18: [Max]\n",
      "age 23: [Peter, Pamela]\n",
      "age 12: [David]\n"
     ]
    }
   ],
   "source": [
    "persons\n",
    "    .stream()\n",
    "    .collect(Collectors.groupingBy(p -> p.getAge()))\n",
    "    .forEach((age, p) -> System.out.format(\"age %s: %s\\n\", age, p));"
   ]
  },
  {
   "cell_type": "markdown",
   "metadata": {},
   "source": [
    "You can also create aggregations on the elements of the stream, e.g. determining the average age of all persons:"
   ]
  },
  {
   "cell_type": "code",
   "execution_count": 5,
   "metadata": {},
   "outputs": [
    {
     "data": {
      "text/plain": [
       "19.0"
      ]
     },
     "execution_count": 5,
     "metadata": {},
     "output_type": "execute_result"
    }
   ],
   "source": [
    "persons\n",
    "    .stream()\n",
    "    .collect(Collectors.averagingInt(p -> p.getAge()));"
   ]
  },
  {
   "cell_type": "markdown",
   "metadata": {},
   "source": [
    "Summarizing collectors return a special built-in summary statistics object:"
   ]
  },
  {
   "cell_type": "code",
   "execution_count": 6,
   "metadata": {},
   "outputs": [
    {
     "data": {
      "text/plain": [
       "IntSummaryStatistics{count=4, sum=76, min=12, average=19.000000, max=23}"
      ]
     },
     "execution_count": 6,
     "metadata": {},
     "output_type": "execute_result"
    }
   ],
   "source": [
    "persons\n",
    "    .stream()\n",
    "    .collect(Collectors.summarizingInt(p -> p.getAge()));"
   ]
  },
  {
   "cell_type": "markdown",
   "metadata": {},
   "source": [
    "The next example joins all persons into a single string:"
   ]
  },
  {
   "cell_type": "code",
   "execution_count": 7,
   "metadata": {},
   "outputs": [
    {
     "data": {
      "text/plain": [
       "In Germany Max and Peter and Pamela are of legal age."
      ]
     },
     "execution_count": 7,
     "metadata": {},
     "output_type": "execute_result"
    }
   ],
   "source": [
    "persons\n",
    "    .stream()\n",
    "    .filter(p -> p.getAge() >= 18)\n",
    "    .map(p -> p.getName())\n",
    "    .collect(Collectors.joining(\" and \", \"In Germany \", \" are of legal age.\"));"
   ]
  },
  {
   "cell_type": "markdown",
   "metadata": {},
   "source": [
    "The <code>join</code> collector accepts a delimiter as well as an optional prefix and suffix."
   ]
  },
  {
   "cell_type": "markdown",
   "metadata": {},
   "source": [
    "To transform the elements of the stream into a <code>Map</code> we have to specify how both the keys and the values should be mapped:"
   ]
  },
  {
   "cell_type": "code",
   "execution_count": 8,
   "metadata": {},
   "outputs": [
    {
     "data": {
      "text/plain": [
       "{18=Max, 23=Peter;Pamela, 12=David}"
      ]
     },
     "execution_count": 8,
     "metadata": {},
     "output_type": "execute_result"
    }
   ],
   "source": [
    "persons\n",
    "    .stream()\n",
    "    .collect(Collectors.toMap(\n",
    "                Person::getAge,\n",
    "                Person::getName,\n",
    "                (name1, name2) -> name1 + \";\" + name2));"
   ]
  },
  {
   "cell_type": "markdown",
   "metadata": {},
   "source": [
    "You can also create your own collector.\n",
    "For example we want to transform all persons of the stream into a single string consisting of all names in upper letters separated by the <code>|</code> pipe character: "
   ]
  },
  {
   "cell_type": "code",
   "execution_count": 9,
   "metadata": {},
   "outputs": [],
   "source": [
    "Collector<Person, StringJoiner, String> personNameCollector =\n",
    "    Collector.of(\n",
    "        () -> new StringJoiner(\" | \"),          // supplier\n",
    "        (j, p) -> j.add(p.getName().toUpperCase()),  // accumulator\n",
    "        (j1, j2) -> j1.merge(j2),               // combiner\n",
    "        StringJoiner::toString);                // finisher"
   ]
  },
  {
   "cell_type": "code",
   "execution_count": 10,
   "metadata": {},
   "outputs": [
    {
     "data": {
      "text/plain": [
       "MAX | PETER | PAMELA | DAVID"
      ]
     },
     "execution_count": 10,
     "metadata": {},
     "output_type": "execute_result"
    }
   ],
   "source": [
    "persons\n",
    "    .stream()\n",
    "    .collect(personNameCollector);"
   ]
  },
  {
   "cell_type": "markdown",
   "metadata": {},
   "source": [
    "Since strings in Java are immutable, we need a helper class like <code>StringJoiner</code> to let the collector construct our string. The <b>supplier</b> initially constructs such a <code>StringJoiner</code> with the appropriate delimiter. The <b>accumulator</b> is used to add each persons upper-cased name to the <code>StringJoiner</code>. The <b>combiner</b> knows how to merge two <code>StringJoiners</code> into one. In the last step the <b>finisher</b> constructs the desired <code>String</code> from the <code>StringJoiner</code>."
   ]
  },
  {
   "cell_type": "markdown",
   "metadata": {},
   "source": [
    "### Streams.flatMap()\n",
    "\n",
    "<code>Streams.flatMap()</code> transforms each element of the stream into a stream of other objects. So each object will be transformed into zero, one or multiple other objects backed by streams. The contents of those streams will then be placed into the returned stream of the <code>flatMap</code> operation.\n",
    "\n",
    "<code>Streams.flatMap()</code> accepts a function which has to return a stream of objects. So in order to resolve the <code>bar</code> objects of each <code>foo</code>, we just pass the appropriate function:"
   ]
  },
  {
   "cell_type": "code",
   "execution_count": 11,
   "metadata": {},
   "outputs": [
    {
     "name": "stdout",
     "output_type": "stream",
     "text": [
      "Bar1 <- Foo1\n",
      "Bar2 <- Foo1\n",
      "Bar3 <- Foo1\n",
      "Bar1 <- Foo2\n",
      "Bar2 <- Foo2\n",
      "Bar3 <- Foo2\n",
      "Bar1 <- Foo3\n",
      "Bar2 <- Foo3\n",
      "Bar3 <- Foo3\n"
     ]
    }
   ],
   "source": [
    "foos.stream()\n",
    "    .flatMap(f -> f.getBars().stream())\n",
    "    .forEach(b -> System.out.println(b.getName()));"
   ]
  },
  {
   "cell_type": "markdown",
   "metadata": {},
   "source": [
    "Transformed the stream of three <code>foo</code> objects into a stream of nine <code>bar</code> objects."
   ]
  },
  {
   "cell_type": "markdown",
   "metadata": {},
   "source": [
    "Put it all together:"
   ]
  },
  {
   "cell_type": "code",
   "execution_count": 12,
   "metadata": {},
   "outputs": [
    {
     "name": "stdout",
     "output_type": "stream",
     "text": [
      "Bar1 <- Foo1\n",
      "Bar2 <- Foo1\n",
      "Bar3 <- Foo1\n",
      "Bar1 <- Foo2\n",
      "Bar2 <- Foo2\n",
      "Bar3 <- Foo2\n",
      "Bar1 <- Foo3\n",
      "Bar2 <- Foo3\n",
      "Bar3 <- Foo3\n"
     ]
    }
   ],
   "source": [
    "IntStream.range(1, 4)\n",
    "    .mapToObj(i -> new Foo(\"Foo\" + i))\n",
    "    .peek(f -> IntStream.range(1, 4)\n",
    "        .mapToObj(i -> new Bar(\"Bar\" + i + \" <- \" + f.getName()))\n",
    "        .forEach(f.getBars()::add))\n",
    "    .flatMap(f -> f.getBars().stream())\n",
    "    .forEach(b -> System.out.println(b.getName()));"
   ]
  },
  {
   "cell_type": "markdown",
   "metadata": {},
   "source": [
    "### Streams.reduce()\n",
    "\n",
    "The reduction operation combines all elements of the stream into a single result. Java8 supports three different kind of <code>Streams.reduce()</code> methods. \n",
    "\n",
    "The first <code>Streams.reduce()</code> reduces a stream of elements to exactly one element of the stream:"
   ]
  },
  {
   "cell_type": "code",
   "execution_count": 13,
   "metadata": {},
   "outputs": [
    {
     "name": "stdout",
     "output_type": "stream",
     "text": [
      "Pamela\n"
     ]
    }
   ],
   "source": [
    "persons\n",
    "    .stream()\n",
    "    .reduce((p1, p2) -> p1.getAge() > p2.getAge() ? p1 : p2)\n",
    "    .ifPresent(System.out::println);"
   ]
  },
  {
   "cell_type": "markdown",
   "metadata": {},
   "source": [
    "The <code>Streams.reduce()</code> method accepts a <code>BinaryOperator</code> accumulator function. That's actually a <code>BiFunction</code> where both operands share the same type, in that case <code>Person</code>. BiFunctions are like <code>Function</code> but accept two arguments. The example function compares both persons ages in order to return the person with the maximum age.\n",
    "\n",
    "The second <code>Streams.reduce()</code> method accepts both an identity value and a <code>BinaryOperator</code> accumulator. \n",
    "\n",
    "This method can be utilized to construct a new Person with the aggregated names and ages from all other persons in the stream:"
   ]
  },
  {
   "cell_type": "code",
   "execution_count": 14,
   "metadata": {},
   "outputs": [
    {
     "data": {
      "text/plain": [
       "MaxPeterPamelaDavid"
      ]
     },
     "execution_count": 14,
     "metadata": {},
     "output_type": "execute_result"
    }
   ],
   "source": [
    "Person result = \n",
    "    persons\n",
    "        .stream()\n",
    "        .reduce(new Person(\"\", 0), (p1, p2) -> {\n",
    "                    p1.age += p2.age;\n",
    "                    p1.name += p2.name;\n",
    "                    return p1;\n",
    "            });\n",
    "            \n",
    "result.getName();"
   ]
  },
  {
   "cell_type": "code",
   "execution_count": 15,
   "metadata": {},
   "outputs": [
    {
     "data": {
      "text/plain": [
       "76"
      ]
     },
     "execution_count": 15,
     "metadata": {},
     "output_type": "execute_result"
    }
   ],
   "source": [
    "result.getAge();"
   ]
  },
  {
   "cell_type": "markdown",
   "metadata": {},
   "source": [
    "The third <code>Streams.reduce()</code> method accepts three parameters: an identity value, a <code>BiFunction</code> accumulator and a combiner function of type <code>BinaryOperator</code>:"
   ]
  },
  {
   "cell_type": "code",
   "execution_count": 16,
   "metadata": {},
   "outputs": [
    {
     "data": {
      "text/plain": [
       "76"
      ]
     },
     "execution_count": 16,
     "metadata": {},
     "output_type": "execute_result"
    }
   ],
   "source": [
    "persons\n",
    "    .stream()\n",
    "    .reduce(\n",
    "        0, \n",
    "        (sum, p) -> sum += p.getAge(), \n",
    "        (sum1, sum2) -> sum1 + sum2\n",
    "    );"
   ]
  },
  {
   "cell_type": "code",
   "execution_count": 17,
   "metadata": {},
   "outputs": [
    {
     "name": "stdout",
     "output_type": "stream",
     "text": [
      "accumulator: sum=0; person=Max\n",
      "accumulator: sum=18; person=Peter\n",
      "accumulator: sum=41; person=Pamela\n",
      "accumulator: sum=64; person=David\n"
     ]
    },
    {
     "data": {
      "text/plain": [
       "76"
      ]
     },
     "execution_count": 17,
     "metadata": {},
     "output_type": "execute_result"
    }
   ],
   "source": [
    "persons\n",
    "    .stream()\n",
    "    .reduce(0,\n",
    "        (sum, p) -> {\n",
    "            System.out.format(\"accumulator: sum=%s; person=%s\\n\", sum, p);\n",
    "            return sum += p.getAge();\n",
    "        },\n",
    "        (sum1, sum2) -> {\n",
    "            System.out.format(\"combiner: sum1=%s; sum2=%s\\n\", sum1, sum2);\n",
    "            return sum1 + sum2;\n",
    "        });"
   ]
  },
  {
   "cell_type": "code",
   "execution_count": null,
   "metadata": {},
   "outputs": [],
   "source": []
  }
 ],
 "metadata": {
  "kernelspec": {
   "display_name": "Java",
   "language": "java",
   "name": "java"
  },
  "language_info": {
   "codemirror_mode": "java",
   "file_extension": ".java",
   "mimetype": "text/x-java-source",
   "name": "Java",
   "pygments_lexer": "java",
   "version": "11.0.1+13-LTS"
  }
 },
 "nbformat": 4,
 "nbformat_minor": 2
}
