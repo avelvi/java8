{
 "cells": [
  {
   "cell_type": "markdown",
   "metadata": {},
   "source": [
    "## Streams\n",
    "\n",
    "A <code>java.util.Stream</code> represents a sequence of elements on which one or more operations can be performed. Stream operations are either <i>intermediate</i> or <i>terminal</i>. While <i>terminal</i> operations return a result of a certain type, <i>intermediate</i> operations return the stream itself so you can chain multiple method calls in a row. Streams are created on a source, e.g. a <code>java.util.Collection</code> like lists or sets (<b>maps are not supported</b>). Stream operations can either be executed sequential( by calling <code>stream()</code> ) or parallel(by calling <code>parallelStream()</code> )."
   ]
  },
  {
   "cell_type": "code",
   "execution_count": 1,
   "metadata": {},
   "outputs": [
    {
     "data": {
      "text/plain": [
       "true"
      ]
     },
     "execution_count": 1,
     "metadata": {},
     "output_type": "execute_result"
    }
   ],
   "source": [
    "import java.util.stream.Collectors;\n",
    "\n",
    "List<String> stringCollection = new ArrayList<>();\n",
    "stringCollection.add(\"ddd2\");\n",
    "stringCollection.add(\"aaa2\");\n",
    "stringCollection.add(\"bbb1\");\n",
    "stringCollection.add(\"aaa1\");\n",
    "stringCollection.add(\"bbb3\");\n",
    "stringCollection.add(\"ccc\");\n",
    "stringCollection.add(\"bbb2\");\n",
    "stringCollection.add(\"ddd1\");\n",
    "\n",
    "List<String> stringList = new ArrayList<String>();\n",
    "stringList.add(\"One flew over the cuckoo's nest\");\n",
    "stringList.add(\"To kill a muckingbird\");\n",
    "stringList.add(\"Gone with the wind\");\n",
    "\n",
    "List<String> strList = new ArrayList<>();\n",
    "strList.add(\"one\");\n",
    "strList.add(\"two\");\n",
    "strList.add(\"three\");\n",
    "strList.add(\"one\");"
   ]
  },
  {
   "cell_type": "markdown",
   "metadata": {},
   "source": [
    "Collections in Java 8 are extended so you can simply create streams either by calling <code>Collection.stream()</code> or <code>Collection.parallelStream()</code>. \n",
    "The most common stream operations:\n",
    "<ul>\n",
    "    <li>intermediate:\n",
    "        <ul>\n",
    "            <li>filter</li>\n",
    "            <li>sorted</li>\n",
    "            <li>map</li>\n",
    "            <li>flatMap</li>\n",
    "            <li>distinct</li>\n",
    "        </ul>\n",
    "    </li>\n",
    "    <li>terminal:\n",
    "        <ul>\n",
    "            <li>match</li>\n",
    "            <li>reduce</li>\n",
    "            <li>count</li>\n",
    "            <li>collect</li>\n",
    "        </ul>\n",
    "    </li>\n",
    "</ul>"
   ]
  },
  {
   "cell_type": "markdown",
   "metadata": {},
   "source": [
    "### Intermediate Operations"
   ]
  },
  {
   "cell_type": "markdown",
   "metadata": {},
   "source": [
    "#### Stream.filter()\n",
    "\n",
    "<code>Stream.filter()</code> accepts a predicate to filter all elements of the stream. This operation is <i>intermediate</i> which enables us to call another stream operation (<code>forEach</code>) on the result. <code>forEach</code> accepts a consumer to be executed for each element in the filtered stream. <code>forEach</code> is a terminal operation. It's void, so we cannot call another stream operation:"
   ]
  },
  {
   "cell_type": "code",
   "execution_count": 2,
   "metadata": {},
   "outputs": [
    {
     "name": "stdout",
     "output_type": "stream",
     "text": [
      "aaa2\n",
      "aaa1\n"
     ]
    }
   ],
   "source": [
    "stringCollection\n",
    "    .stream()\n",
    "    .filter(s -> s.startsWith(\"a\"))\n",
    "    .forEach(System.out::println);"
   ]
  },
  {
   "cell_type": "markdown",
   "metadata": {},
   "source": [
    "#### Stream.sorted()\n",
    "\n",
    "<code>Stream.sorted()</code> is an <i>intermediate</i> operation which returns a sorted view of the stream. The elements are sorted in natural order unless you pass a custom <code>Comparator</code>:"
   ]
  },
  {
   "cell_type": "code",
   "execution_count": 3,
   "metadata": {},
   "outputs": [
    {
     "name": "stdout",
     "output_type": "stream",
     "text": [
      "aaa1\n",
      "aaa2\n"
     ]
    }
   ],
   "source": [
    "stringCollection\n",
    "    .stream()\n",
    "    .sorted()\n",
    "    .filter(s -> s.startsWith(\"a\"))\n",
    "    .forEach(System.out::println);"
   ]
  },
  {
   "cell_type": "markdown",
   "metadata": {},
   "source": [
    "<b>Note</b>: <code>sorted</code> does only create a sorted view of the stream without manipulating the ordering of the backed collection. \n",
    "The ordering of <code>stringCollection<code> is untouched:"
   ]
  },
  {
   "cell_type": "code",
   "execution_count": 4,
   "metadata": {},
   "outputs": [
    {
     "name": "stdout",
     "output_type": "stream",
     "text": [
      "[ddd2, aaa2, bbb1, aaa1, bbb3, ccc, bbb2, ddd1]\n"
     ]
    }
   ],
   "source": [
    "System.out.println(stringCollection);"
   ]
  },
  {
   "cell_type": "markdown",
   "metadata": {},
   "source": [
    "#### Stream.map()\n",
    "\n",
    "The <i>intermediate</i> operation <code>Stream.map()</code> converts each element into another object via the given function. The following example converts each string into an upper-cased string. But you can also use <code>Stream.map()</code> to transform each object into another type. The generic type of the resulting stream depends on the generic type of the function you pass to <code>Stream.map()</code>:"
   ]
  },
  {
   "cell_type": "code",
   "execution_count": 5,
   "metadata": {},
   "outputs": [
    {
     "name": "stdout",
     "output_type": "stream",
     "text": [
      "DDD2\n",
      "DDD1\n",
      "CCC\n",
      "BBB3\n",
      "BBB2\n",
      "BBB1\n",
      "AAA2\n",
      "AAA1\n"
     ]
    }
   ],
   "source": [
    "stringCollection\n",
    "    .stream()\n",
    "    .map(String::toUpperCase)\n",
    "    .sorted((a, b) -> b.compareTo(a))\n",
    "    .forEach(System.out::println);"
   ]
  },
  {
   "cell_type": "markdown",
   "metadata": {},
   "source": [
    "#### Stream.flatMap() \n",
    "\n",
    "<code>Stream.flatMap()</code> method map a single element into multiple elements. The idea is that you \"flatten\" each element from a complex structure consisting of multiple internal elements, to a \"flat\" stream consisting only of these internal elements:"
   ]
  },
  {
   "cell_type": "code",
   "execution_count": 6,
   "metadata": {},
   "outputs": [
    {
     "name": "stdout",
     "output_type": "stream",
     "text": [
      "One\n",
      "flew\n",
      "over\n",
      "the\n",
      "cuckoo's\n",
      "nest\n",
      "To\n",
      "kill\n",
      "a\n",
      "muckingbird\n",
      "Gone\n",
      "with\n",
      "the\n",
      "wind\n"
     ]
    }
   ],
   "source": [
    "stringList\n",
    "    .stream()\n",
    "    .flatMap(s -> {\n",
    "        String[] split = s.split(\" \");\n",
    "        return Arrays.asList(split).stream();\n",
    "    })\n",
    "    .forEach(System.out::println);"
   ]
  },
  {
   "cell_type": "markdown",
   "metadata": {},
   "source": [
    "#### Stream.distinct()\n",
    "<code>Stream.distinct()</code> method is a <i>intermediate</i> operation that returns a new <code>Stream</code> which will only contain the distinct elements from the original stream. Any duplicates will be eliminated:"
   ]
  },
  {
   "cell_type": "code",
   "execution_count": 7,
   "metadata": {},
   "outputs": [
    {
     "data": {
      "text/plain": [
       "[one, two, three]"
      ]
     },
     "execution_count": 7,
     "metadata": {},
     "output_type": "execute_result"
    }
   ],
   "source": [
    "strList\n",
    "    .stream()\n",
    "    .distinct()\n",
    "    .collect(Collectors.toList());"
   ]
  },
  {
   "cell_type": "markdown",
   "metadata": {},
   "source": [
    "### Terminal Operations"
   ]
  },
  {
   "cell_type": "markdown",
   "metadata": {},
   "source": [
    "#### Stream.match()\n",
    "\n",
    "Various matching operations can be used to check whether a certain predicate matches the stream. All of those operations are <i>terminal</i> and return a boolean result:"
   ]
  },
  {
   "cell_type": "code",
   "execution_count": 8,
   "metadata": {},
   "outputs": [
    {
     "data": {
      "text/plain": [
       "true"
      ]
     },
     "execution_count": 8,
     "metadata": {},
     "output_type": "execute_result"
    }
   ],
   "source": [
    "// Any starts with \"a\"\n",
    "stringCollection\n",
    "    .stream()\n",
    "    .anyMatch(s -> s.startsWith(\"a\"));"
   ]
  },
  {
   "cell_type": "code",
   "execution_count": 9,
   "metadata": {},
   "outputs": [
    {
     "data": {
      "text/plain": [
       "false"
      ]
     },
     "execution_count": 9,
     "metadata": {},
     "output_type": "execute_result"
    }
   ],
   "source": [
    "// All starts with \"a\"\n",
    "stringCollection\n",
    "    .stream()\n",
    "    .allMatch(s -> s.startsWith(\"a\"));"
   ]
  },
  {
   "cell_type": "code",
   "execution_count": 10,
   "metadata": {},
   "outputs": [
    {
     "data": {
      "text/plain": [
       "true"
      ]
     },
     "execution_count": 10,
     "metadata": {},
     "output_type": "execute_result"
    }
   ],
   "source": [
    "// None starts with \"z\"\n",
    "stringCollection\n",
    "    .stream()\n",
    "    .noneMatch(s -> s.startsWith(\"z\"));"
   ]
  },
  {
   "cell_type": "markdown",
   "metadata": {},
   "source": [
    "#### Stream.reduce()\n",
    "\n",
    "This <i>terminal</i> operation performs a reduction on the elements of the stream with the given function. The result is an <code>Optional</code> holding the reduced value:"
   ]
  },
  {
   "cell_type": "code",
   "execution_count": 11,
   "metadata": {},
   "outputs": [],
   "source": [
    "Optional<String> reduced = \n",
    "    stringCollection\n",
    "        .stream()\n",
    "        .sorted()\n",
    "        .reduce((s1, s2) -> s1 + \"#\" + s2);"
   ]
  },
  {
   "cell_type": "code",
   "execution_count": 12,
   "metadata": {},
   "outputs": [
    {
     "name": "stdout",
     "output_type": "stream",
     "text": [
      "aaa1#aaa2#bbb1#bbb2#bbb3#ccc#ddd1#ddd2\n"
     ]
    }
   ],
   "source": [
    "reduced.ifPresent(System.out::println);"
   ]
  },
  {
   "cell_type": "markdown",
   "metadata": {},
   "source": [
    "#### Stream.count()\n",
    "\n",
    "<code>Stream.count()</code> is a <i>terminal</i> operation returning the number of elements in the stream as a long:"
   ]
  },
  {
   "cell_type": "code",
   "execution_count": 13,
   "metadata": {},
   "outputs": [
    {
     "data": {
      "text/plain": [
       "3"
      ]
     },
     "execution_count": 13,
     "metadata": {},
     "output_type": "execute_result"
    }
   ],
   "source": [
    "stringCollection\n",
    "    .stream()\n",
    "    .filter(s -> s.startsWith(\"b\"))\n",
    "    .count();"
   ]
  },
  {
   "cell_type": "markdown",
   "metadata": {},
   "source": [
    "#### Stream.collect()\n",
    "<code>Stream.collect()</code> method is a <i>terminal</i> operation that starts the internal iteration of elements, and collects the elements in the stream in a collection or object of some kind:"
   ]
  },
  {
   "cell_type": "code",
   "execution_count": 14,
   "metadata": {},
   "outputs": [
    {
     "data": {
      "text/plain": [
       "[ONE FLEW OVER THE CUCKOO'S NEST, TO KILL A MUCKINGBIRD, GONE WITH THE WIND]"
      ]
     },
     "execution_count": 14,
     "metadata": {},
     "output_type": "execute_result"
    }
   ],
   "source": [
    "stringList\n",
    "    .stream()\n",
    "    .map(s -> s.toUpperCase())\n",
    "    .collect(Collectors.toSet());"
   ]
  },
  {
   "cell_type": "code",
   "execution_count": null,
   "metadata": {},
   "outputs": [],
   "source": []
  }
 ],
 "metadata": {
  "kernelspec": {
   "display_name": "Java",
   "language": "java",
   "name": "java"
  },
  "language_info": {
   "codemirror_mode": "java",
   "file_extension": ".java",
   "mimetype": "text/x-java-source",
   "name": "Java",
   "pygments_lexer": "java",
   "version": "11.0.1+13-LTS"
  }
 },
 "nbformat": 4,
 "nbformat_minor": 2
}
