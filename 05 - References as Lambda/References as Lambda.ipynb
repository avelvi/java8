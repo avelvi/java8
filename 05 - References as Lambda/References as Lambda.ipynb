{
 "cells": [
  {
   "cell_type": "markdown",
   "metadata": {},
   "source": [
    "## References as Lambda\n",
    "\n",
    "<ul>\n",
    "    <li>Static method</li>\n",
    "    <li>Instance method on parameter objects</li>\n",
    "    <li>Instance method</li>\n",
    "    <li>Constructor</li>\n",
    "</ul>"
   ]
  },
  {
   "cell_type": "markdown",
   "metadata": {},
   "source": [
    "### Static Method References"
   ]
  },
  {
   "cell_type": "code",
   "execution_count": 1,
   "metadata": {},
   "outputs": [],
   "source": [
    "interface Finder {\n",
    "    int find(String s1, String s2);\n",
    "}"
   ]
  },
  {
   "cell_type": "markdown",
   "metadata": {},
   "source": [
    "And here is a static method that we want to create a method reference to:"
   ]
  },
  {
   "cell_type": "code",
   "execution_count": 2,
   "metadata": {},
   "outputs": [],
   "source": [
    "class MyClass{\n",
    "    static int doFind(String s1, String s2){\n",
    "        return s1.lastIndexOf(s2);\n",
    "    }\n",
    "}"
   ]
  },
  {
   "cell_type": "markdown",
   "metadata": {},
   "source": [
    "Here is a Java lambda expression referencing the static method:"
   ]
  },
  {
   "cell_type": "code",
   "execution_count": 3,
   "metadata": {},
   "outputs": [
    {
     "data": {
      "text/plain": [
       "5"
      ]
     },
     "execution_count": 3,
     "metadata": {},
     "output_type": "execute_result"
    }
   ],
   "source": [
    "Finder finder = MyClass::doFind;\n",
    "finder.find(\"abcdbacd\", \"a\");"
   ]
  },
  {
   "cell_type": "markdown",
   "metadata": {},
   "source": [
    "Since the parameters of the <code>Finder.find()</code> and <code>MyClass.doFind()</code> methods match, it is possible to create a lambda expression that implements <code>Finder.find()</code> and references the <code>MyClass.doFind()</code> method."
   ]
  },
  {
   "cell_type": "markdown",
   "metadata": {},
   "source": [
    "### Parameter Method Reference\n",
    "\n",
    "You can also reference a method of one of the parameters to the lambda."
   ]
  },
  {
   "cell_type": "code",
   "execution_count": 4,
   "metadata": {},
   "outputs": [
    {
     "data": {
      "text/plain": [
       "2"
      ]
     },
     "execution_count": 4,
     "metadata": {},
     "output_type": "execute_result"
    }
   ],
   "source": [
    "Finder finder2 = (s1, s2) -> s1.indexOf(s2);\n",
    "finder2.find(\"abcdbacd\", \"c\");"
   ]
  },
  {
   "cell_type": "markdown",
   "metadata": {},
   "source": [
    "This is equivalent to:"
   ]
  },
  {
   "cell_type": "code",
   "execution_count": 5,
   "metadata": {},
   "outputs": [
    {
     "data": {
      "text/plain": [
       "2"
      ]
     },
     "execution_count": 5,
     "metadata": {},
     "output_type": "execute_result"
    }
   ],
   "source": [
    "Finder finder3 = String::indexOf;\n",
    "finder3.find(\"abcdbacd\", \"c\");"
   ]
  },
  {
   "cell_type": "markdown",
   "metadata": {},
   "source": [
    "The Java compiler will attempt to match the referenced method against the first parameter type, using the second parameter type as parameter to the referenced method."
   ]
  },
  {
   "cell_type": "markdown",
   "metadata": {},
   "source": [
    "### Instance Method References\n",
    "\n",
    "It is also possible to reference an instance method from a lambda definition"
   ]
  },
  {
   "cell_type": "code",
   "execution_count": 6,
   "metadata": {},
   "outputs": [],
   "source": [
    "interface Deserializer {\n",
    "    int deserialize(String v1);\n",
    "}"
   ]
  },
  {
   "cell_type": "markdown",
   "metadata": {},
   "source": [
    "This interface represents a component that is capable of \"deserializing\" a <code>String</code> into an <code>int</code>."
   ]
  },
  {
   "cell_type": "code",
   "execution_count": 7,
   "metadata": {},
   "outputs": [],
   "source": [
    "class StringConverter {\n",
    "    int convertToInt(String v1){\n",
    "        return Integer.valueOf(v1);\n",
    "    }\n",
    "}"
   ]
  },
  {
   "cell_type": "markdown",
   "metadata": {},
   "source": [
    "The <code>convertToInt()</code> method has the same signature as the <code>deserialize()</code> method of the <code>Deserializer</code> interface. Because of that, we can create an instance of <code>StringConverter</code> and reference its <code>convertToInt()</code> method from a Java lambda expression, like this:"
   ]
  },
  {
   "cell_type": "code",
   "execution_count": 8,
   "metadata": {},
   "outputs": [
    {
     "data": {
      "text/plain": [
       "123"
      ]
     },
     "execution_count": 8,
     "metadata": {},
     "output_type": "execute_result"
    }
   ],
   "source": [
    "StringConverter stringConverter = new StringConverter();\n",
    "Deserializer des = stringConverter::convertToInt;\n",
    "\n",
    "int res = des.deserialize(\"123\");\n",
    "res"
   ]
  },
  {
   "cell_type": "markdown",
   "metadata": {},
   "source": [
    "### Constructor References\n",
    "\n",
    "It is possible to reference a constructor of a class. You do that by writing the class name followed by <code>::</code> with <code>new</code> keyword. First we define an example bean with different constructors:"
   ]
  },
  {
   "cell_type": "code",
   "execution_count": 9,
   "metadata": {},
   "outputs": [],
   "source": [
    "class Person {\n",
    "    String firstName;\n",
    "    String lastName;\n",
    "    \n",
    "    Person() {\n",
    "        System.out.println(\"Constructor without args\");\n",
    "    }\n",
    "    \n",
    "    Person(String firstName, String lastName) {\n",
    "        System.out.println(\"Constructor with args: \" + firstName + \", \" + lastName);\n",
    "        this.firstName = firstName;\n",
    "        this.lastName = lastName;\n",
    "    }\n",
    "}"
   ]
  },
  {
   "cell_type": "markdown",
   "metadata": {},
   "source": [
    "Next we specify a person factory interface to be used for creating new persons:"
   ]
  },
  {
   "cell_type": "code",
   "execution_count": 10,
   "metadata": {},
   "outputs": [],
   "source": [
    "interface PersonFactory<P extends Person> {\n",
    "    P create(String firstName, String lastName);\n",
    "}"
   ]
  },
  {
   "cell_type": "markdown",
   "metadata": {},
   "source": [
    "Instead of implementing the factory manually, we can use everything together via constructor references:"
   ]
  },
  {
   "cell_type": "code",
   "execution_count": 11,
   "metadata": {},
   "outputs": [
    {
     "name": "stdout",
     "output_type": "stream",
     "text": [
      "Constructor with args: Name, Surname\n"
     ]
    }
   ],
   "source": [
    "PersonFactory<Person> personFactory = Person::new;\n",
    "Person person = personFactory.create(\"Name\", \"Surname\");"
   ]
  },
  {
   "cell_type": "markdown",
   "metadata": {},
   "source": [
    "We create a reference to the <code>Person</code> constructor via <code>Person::new</code>. The Java compiler automatically chooses the right constructor by matching the signature of <code>PersonFactory.create</code>."
   ]
  },
  {
   "cell_type": "code",
   "execution_count": null,
   "metadata": {},
   "outputs": [],
   "source": []
  }
 ],
 "metadata": {
  "kernelspec": {
   "display_name": "Java",
   "language": "java",
   "name": "java"
  },
  "language_info": {
   "codemirror_mode": "java",
   "file_extension": ".java",
   "mimetype": "text/x-java-source",
   "name": "Java",
   "pygments_lexer": "java",
   "version": "11.0.1+13-LTS"
  }
 },
 "nbformat": 4,
 "nbformat_minor": 2
}
