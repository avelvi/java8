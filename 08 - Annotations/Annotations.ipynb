{
 "cells": [
  {
   "cell_type": "markdown",
   "metadata": {},
   "source": [
    "## Annotations\n",
    "\n",
    "Java8 enables us to use multiple annotations of the same type by declaring the annotation <code>@Repeatable</code>:"
   ]
  },
  {
   "cell_type": "code",
   "execution_count": 4,
   "metadata": {},
   "outputs": [],
   "source": [
    "import java.lang.annotation.Repeatable;\n",
    "import java.lang.annotation.Target;\n",
    "import java.lang.annotation.ElementType;\n",
    "\n",
    "@Repeatable(Hints.class)\n",
    "@interface Hint {\n",
    "    String value();\n",
    "}\n",
    "\n",
    "@interface Hints {\n",
    "    Hint[] value();\n",
    "}"
   ]
  },
  {
   "cell_type": "markdown",
   "metadata": {},
   "source": [
    "Before:"
   ]
  },
  {
   "cell_type": "code",
   "execution_count": 5,
   "metadata": {},
   "outputs": [],
   "source": [
    "@Hints({@Hint(\"hint1\"), @Hint(\"hint2\")})\n",
    "class Person {}"
   ]
  },
  {
   "cell_type": "markdown",
   "metadata": {},
   "source": [
    "Java8:"
   ]
  },
  {
   "cell_type": "code",
   "execution_count": 6,
   "metadata": {},
   "outputs": [],
   "source": [
    "@Hint(\"hint1\")\n",
    "@Hint(\"hint2\")\n",
    "class Person {}"
   ]
  },
  {
   "cell_type": "markdown",
   "metadata": {},
   "source": [
    "Using variant 2 the java compiler implicitly sets up the <code>@Hints</code> annotation under the hood. That's important for reading annotation informations via reflection."
   ]
  },
  {
   "cell_type": "markdown",
   "metadata": {},
   "source": [
    "In Java8 there are two new targets:"
   ]
  },
  {
   "cell_type": "code",
   "execution_count": 7,
   "metadata": {},
   "outputs": [],
   "source": [
    "@Target({ElementType.TYPE_PARAMETER, ElementType.TYPE_USE})\n",
    "@interface MyAnnotation {}"
   ]
  },
  {
   "cell_type": "code",
   "execution_count": null,
   "metadata": {},
   "outputs": [],
   "source": []
  }
 ],
 "metadata": {
  "kernelspec": {
   "display_name": "Java",
   "language": "java",
   "name": "java"
  },
  "language_info": {
   "codemirror_mode": "java",
   "file_extension": ".java",
   "mimetype": "text/x-java-source",
   "name": "Java",
   "pygments_lexer": "java",
   "version": "11.0.1+13-LTS"
  }
 },
 "nbformat": 4,
 "nbformat_minor": 2
}
