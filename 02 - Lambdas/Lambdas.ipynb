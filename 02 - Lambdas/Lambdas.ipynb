{
 "cells": [
  {
   "cell_type": "markdown",
   "metadata": {},
   "source": [
    "## Lambdas\n",
    "\n",
    "### Lambda expressions\n",
    "\n",
    "A Java lambda expression is a function which can be created without belonging to any class. It can be passed around as if it was an object and executed on demand."
   ]
  },
  {
   "cell_type": "code",
   "execution_count": 1,
   "metadata": {},
   "outputs": [],
   "source": [
    "List<String> names = Arrays.asList(\"Peter\", \"Anna\", \"Mike\", \"Xenia\");"
   ]
  },
  {
   "cell_type": "markdown",
   "metadata": {},
   "source": [
    "In prior versions of Java:"
   ]
  },
  {
   "cell_type": "code",
   "execution_count": 2,
   "metadata": {},
   "outputs": [],
   "source": [
    "Collections.sort(names, new Comparator<String>() {\n",
    "    @Override\n",
    "    public int compare(String a, String b) {\n",
    "        return b.compareTo(a);\n",
    "    }\n",
    "});"
   ]
  },
  {
   "cell_type": "code",
   "execution_count": 3,
   "metadata": {},
   "outputs": [
    {
     "data": {
      "text/plain": [
       "[Xenia, Peter, Mike, Anna]"
      ]
     },
     "execution_count": 3,
     "metadata": {},
     "output_type": "execute_result"
    }
   ],
   "source": [
    "names"
   ]
  },
  {
   "cell_type": "markdown",
   "metadata": {},
   "source": [
    "Starting from Java8 it can be replaced with <b>lambda expressions:</b>"
   ]
  },
  {
   "cell_type": "code",
   "execution_count": 4,
   "metadata": {},
   "outputs": [
    {
     "data": {
      "text/plain": [
       "[Anna, Mike, Peter, Xenia]"
      ]
     },
     "execution_count": 4,
     "metadata": {},
     "output_type": "execute_result"
    }
   ],
   "source": [
    "Collections.sort(names, (String a, String b) -> {\n",
    "    return a.compareTo(b);\n",
    "});\n",
    "\n",
    "names;"
   ]
  },
  {
   "cell_type": "code",
   "execution_count": 5,
   "metadata": {},
   "outputs": [
    {
     "data": {
      "text/plain": [
       "[Xenia, Peter, Mike, Anna]"
      ]
     },
     "execution_count": 5,
     "metadata": {},
     "output_type": "execute_result"
    }
   ],
   "source": [
    "Collections.sort(names, (String a, String b) -> b.compareTo(a));\n",
    "names;"
   ]
  },
  {
   "cell_type": "code",
   "execution_count": 6,
   "metadata": {},
   "outputs": [
    {
     "data": {
      "text/plain": [
       "[Anna, Mike, Peter, Xenia]"
      ]
     },
     "execution_count": 6,
     "metadata": {},
     "output_type": "execute_result"
    }
   ],
   "source": [
    "Collections.sort(names, (a, b) -> a.compareTo(b));\n",
    "names;"
   ]
  },
  {
   "cell_type": "markdown",
   "metadata": {},
   "source": [
    "### Lambda Scopes\n",
    "\n",
    "Accessing outer scope variables from lambda expressions is very similar to anonymous objects. You can access final variables from the local outer scope as well as instance fields and static variables."
   ]
  },
  {
   "cell_type": "markdown",
   "metadata": {},
   "source": [
    "#### Accessing local variables\n",
    "\n",
    "We can read final local variables from the outer scope of lambda expressions:"
   ]
  },
  {
   "cell_type": "code",
   "execution_count": 7,
   "metadata": {},
   "outputs": [],
   "source": [
    "interface Converter<F, T> {\n",
    "    T convert(F from);\n",
    "}"
   ]
  },
  {
   "cell_type": "code",
   "execution_count": 8,
   "metadata": {},
   "outputs": [
    {
     "data": {
      "text/plain": [
       "3"
      ]
     },
     "execution_count": 8,
     "metadata": {},
     "output_type": "execute_result"
    }
   ],
   "source": [
    "final int num = 1;\n",
    "Converter<Integer, String> stringConverter = \n",
    "    (from) -> String.valueOf(from + num);\n",
    "    \n",
    "stringConverter.convert(2);"
   ]
  },
  {
   "cell_type": "markdown",
   "metadata": {},
   "source": [
    "This code is also valid:"
   ]
  },
  {
   "cell_type": "code",
   "execution_count": 9,
   "metadata": {},
   "outputs": [
    {
     "data": {
      "text/plain": [
       "3"
      ]
     },
     "execution_count": 9,
     "metadata": {},
     "output_type": "execute_result"
    }
   ],
   "source": [
    "int num = 1;\n",
    "Converter<Integer, String> stringConverter =\n",
    "        (from) -> String.valueOf(from + num);\n",
    "\n",
    "stringConverter.convert(2);"
   ]
  },
  {
   "cell_type": "markdown",
   "metadata": {},
   "source": [
    "#### Accessing fields and static variables\n",
    "\n",
    "In constrast to local variables we have both read and write access to instance fields and static variables from within lambda expressions. This behaviour is well known from anonymous objects."
   ]
  },
  {
   "cell_type": "code",
   "execution_count": 10,
   "metadata": {},
   "outputs": [],
   "source": [
    "class LambdaExample {\n",
    "    static int outerStaticNum = 1;\n",
    "    int outerNum = 2;\n",
    "    \n",
    "    String test(Integer fromInt) {\n",
    "        Converter<Integer, String> stringConverter = (from) -> {\n",
    "            this.outerStaticNum = 23;\n",
    "            this.outerNum = 42;\n",
    "            return String.valueOf(from + this.outerStaticNum + this.outerStaticNum);\n",
    "        };\n",
    "        return stringConverter.convert(fromInt);\n",
    "    }\n",
    "\n",
    "    int getOuterStaticNum(){\n",
    "        return this.outerStaticNum;\n",
    "    }\n",
    "    \n",
    "    int getOuterNum(){\n",
    "        return this.outerNum;\n",
    "    }\n",
    "}"
   ]
  },
  {
   "cell_type": "code",
   "execution_count": 11,
   "metadata": {},
   "outputs": [],
   "source": [
    "LambdaExample le = new LambdaExample();"
   ]
  },
  {
   "cell_type": "code",
   "execution_count": 12,
   "metadata": {},
   "outputs": [
    {
     "data": {
      "text/plain": [
       "2"
      ]
     },
     "execution_count": 12,
     "metadata": {},
     "output_type": "execute_result"
    }
   ],
   "source": [
    "le.getOuterNum();"
   ]
  },
  {
   "cell_type": "code",
   "execution_count": 13,
   "metadata": {},
   "outputs": [
    {
     "data": {
      "text/plain": [
       "1"
      ]
     },
     "execution_count": 13,
     "metadata": {},
     "output_type": "execute_result"
    }
   ],
   "source": [
    "le.getOuterStaticNum();"
   ]
  },
  {
   "cell_type": "code",
   "execution_count": 14,
   "metadata": {},
   "outputs": [
    {
     "data": {
      "text/plain": [
       "51"
      ]
     },
     "execution_count": 14,
     "metadata": {},
     "output_type": "execute_result"
    }
   ],
   "source": [
    "le.test(5)"
   ]
  },
  {
   "cell_type": "code",
   "execution_count": 15,
   "metadata": {},
   "outputs": [
    {
     "data": {
      "text/plain": [
       "42"
      ]
     },
     "execution_count": 15,
     "metadata": {},
     "output_type": "execute_result"
    }
   ],
   "source": [
    "le.getOuterNum();"
   ]
  },
  {
   "cell_type": "code",
   "execution_count": 16,
   "metadata": {},
   "outputs": [
    {
     "data": {
      "text/plain": [
       "23"
      ]
     },
     "execution_count": 16,
     "metadata": {},
     "output_type": "execute_result"
    }
   ],
   "source": [
    "le.getOuterStaticNum();"
   ]
  },
  {
   "cell_type": "markdown",
   "metadata": {},
   "source": [
    "### Lambda Parameters\n",
    "\n",
    "Lambda expressions can take parameters just like methods."
   ]
  },
  {
   "cell_type": "markdown",
   "metadata": {},
   "source": [
    "#### Zero Parameters"
   ]
  },
  {
   "cell_type": "code",
   "execution_count": 17,
   "metadata": {},
   "outputs": [],
   "source": [
    "interface ZeroParameters {\n",
    "    void zero();\n",
    "}"
   ]
  },
  {
   "cell_type": "code",
   "execution_count": 18,
   "metadata": {},
   "outputs": [],
   "source": [
    "ZeroParameters zeroParameters = () -> System.out.println(\"Zero parameter lambda\");"
   ]
  },
  {
   "cell_type": "code",
   "execution_count": 19,
   "metadata": {},
   "outputs": [
    {
     "name": "stdout",
     "output_type": "stream",
     "text": [
      "Zero parameter lambda\n"
     ]
    }
   ],
   "source": [
    "zeroParameters.zero();"
   ]
  },
  {
   "cell_type": "markdown",
   "metadata": {},
   "source": [
    "#### One Parameter"
   ]
  },
  {
   "cell_type": "code",
   "execution_count": 20,
   "metadata": {},
   "outputs": [],
   "source": [
    "interface OneParameter {\n",
    "    void one(String param);\n",
    "}"
   ]
  },
  {
   "cell_type": "code",
   "execution_count": 21,
   "metadata": {},
   "outputs": [],
   "source": [
    "OneParameter oneParameter = (param) -> System.out.println(\"One parameter: \" + param);"
   ]
  },
  {
   "cell_type": "code",
   "execution_count": 22,
   "metadata": {},
   "outputs": [
    {
     "name": "stdout",
     "output_type": "stream",
     "text": [
      "One parameter: Parameter\n"
     ]
    }
   ],
   "source": [
    "oneParameter.one(\"Parameter\");"
   ]
  },
  {
   "cell_type": "markdown",
   "metadata": {},
   "source": [
    "When a lambda expression takes a single parameter, you can also omit the parentheses, like this:"
   ]
  },
  {
   "cell_type": "code",
   "execution_count": 23,
   "metadata": {},
   "outputs": [],
   "source": [
    "OneParameter oneParameter = param -> System.out.println(\"One parameter: \" + param);"
   ]
  },
  {
   "cell_type": "code",
   "execution_count": 24,
   "metadata": {},
   "outputs": [
    {
     "name": "stdout",
     "output_type": "stream",
     "text": [
      "One parameter: New Parameter\n"
     ]
    }
   ],
   "source": [
    "oneParameter.one(\"New Parameter\");"
   ]
  },
  {
   "cell_type": "markdown",
   "metadata": {},
   "source": [
    "#### Multiple Parameters"
   ]
  },
  {
   "cell_type": "code",
   "execution_count": 25,
   "metadata": {},
   "outputs": [],
   "source": [
    "interface MultipleParameters {\n",
    "    void multiple(String p1, String p2);\n",
    "}"
   ]
  },
  {
   "cell_type": "code",
   "execution_count": 26,
   "metadata": {},
   "outputs": [],
   "source": [
    "MultipleParameters mp = (p1, p2) -> System.out.println(\"Multiple parameters: \" + p1 + \", \" + p2);"
   ]
  },
  {
   "cell_type": "markdown",
   "metadata": {},
   "source": [
    "mp.multiple(\"Param 1\", \"Param 2\");"
   ]
  },
  {
   "cell_type": "markdown",
   "metadata": {},
   "source": [
    "<b>Note:</b> Only when the method takes a single parameter can the parentheses be omitted."
   ]
  },
  {
   "cell_type": "markdown",
   "metadata": {},
   "source": [
    "### Lambda Function Body\n",
    "\n",
    "The body of a lambda expression, and thus the body of the function / method it represents, is specified to the right of the <code>-></code> in the lambda declaration:\n",
    "\n",
    "<code>() -> <b>System.out.println(\"Zero parameter lambda\")</b>;</code>\n",
    "\n",
    "If your lambda expression needs to consist of multiple lines, you can enclose the lambda function body inside the <code>{ }</code> bracket which Java also requires when declaring methods elsewhere:\n",
    "\n",
    "<code>(p1, p2) -> <b>{</b>\n",
    "            System.out.println(\"First parameter: \" + p1);\n",
    "            System.out.println(\"Second parameter: \" + p2);\n",
    "      <b>}</b></code>"
   ]
  },
  {
   "cell_type": "markdown",
   "metadata": {},
   "source": [
    "### Returning a Value From a Lambda Expression\n",
    "\n",
    "You can return values from Java lambda expressions, just like you can from a method. You just add a return statement to the lambda function body, like this:"
   ]
  },
  {
   "cell_type": "code",
   "execution_count": 27,
   "metadata": {},
   "outputs": [],
   "source": [
    "interface ReturnValue {\n",
    "    Integer returnValue(Integer p1, Integer p2);\n",
    "}"
   ]
  },
  {
   "cell_type": "code",
   "execution_count": 28,
   "metadata": {},
   "outputs": [],
   "source": [
    "ReturnValue rv = (p1, p2) -> {\n",
    "    System.out.println(\"First parameter: \" + p1);\n",
    "    System.out.println(\"Second parameter: \" + p2);\n",
    "    return p1 + p2;\n",
    "}"
   ]
  },
  {
   "cell_type": "code",
   "execution_count": 29,
   "metadata": {},
   "outputs": [
    {
     "name": "stdout",
     "output_type": "stream",
     "text": [
      "First parameter: 2\n",
      "Second parameter: 3\n",
      "Return value: 5\n"
     ]
    }
   ],
   "source": [
    "System.out.println(\"Return value: \" + rv.returnValue(2, 3));"
   ]
  },
  {
   "cell_type": "markdown",
   "metadata": {},
   "source": [
    "In case all your lambda expression is doing is to calculate a return value and return it, you can specify the return value in a shorter way:"
   ]
  },
  {
   "cell_type": "code",
   "execution_count": 30,
   "metadata": {},
   "outputs": [],
   "source": [
    "ReturnValue rv2 = (p1, p2) -> p1 + p2;"
   ]
  },
  {
   "cell_type": "code",
   "execution_count": 31,
   "metadata": {},
   "outputs": [
    {
     "name": "stdout",
     "output_type": "stream",
     "text": [
      "Return value: 25\n"
     ]
    }
   ],
   "source": [
    "System.out.println(\"Return value: \" + rv2.returnValue(10, 15));"
   ]
  },
  {
   "cell_type": "code",
   "execution_count": null,
   "metadata": {},
   "outputs": [],
   "source": []
  }
 ],
 "metadata": {
  "kernelspec": {
   "display_name": "Java",
   "language": "java",
   "name": "java"
  },
  "language_info": {
   "codemirror_mode": "java",
   "file_extension": ".java",
   "mimetype": "text/x-java-source",
   "name": "Java",
   "pygments_lexer": "java",
   "version": "11.0.1+13-LTS"
  }
 },
 "nbformat": 4,
 "nbformat_minor": 2
}
